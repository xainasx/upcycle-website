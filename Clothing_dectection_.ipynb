{
  "nbformat": 4,
  "nbformat_minor": 0,
  "metadata": {
    "colab": {
      "private_outputs": true,
      "provenance": [],
      "authorship_tag": "ABX9TyPfOL3zC8bE49sRmefOcbyw",
      "include_colab_link": true
    },
    "kernelspec": {
      "name": "python3",
      "display_name": "Python 3"
    },
    "language_info": {
      "name": "python"
    }
  },
  "cells": [
    {
      "cell_type": "markdown",
      "metadata": {
        "id": "view-in-github",
        "colab_type": "text"
      },
      "source": [
        "<a href=\"https://colab.research.google.com/github/xainasx/upcycle-website/blob/main/Clothing_dectection_.ipynb\" target=\"_parent\"><img src=\"https://colab.research.google.com/assets/colab-badge.svg\" alt=\"Open In Colab\"/></a>"
      ]
    },
    {
      "cell_type": "code",
      "execution_count": null,
      "metadata": {
        "id": "LJfwFsVuBzT0"
      },
      "outputs": [],
      "source": [
        "import numpy as np\n",
        "import pandas as pd\n",
        "from google.colab import files\n",
        "uploaded = files.upload()\n",
        "\n"
      ]
    },
    {
      "cell_type": "code",
      "source": [
        "import os\n",
        "for dirname, _, filenames in os.walk('/kaggle/input'):\n",
        "    for filename in filenames:\n",
        "        os.path.join(dirname, filename)"
      ],
      "metadata": {
        "id": "8IXhpL1EC-4v"
      },
      "execution_count": null,
      "outputs": []
    },
    {
      "cell_type": "code",
      "source": [
        "labels = pd.read_csv(\"images.csv\")\n",
        "labels.head()"
      ],
      "metadata": {
        "id": "k4KjrCN3DvqH"
      },
      "execution_count": null,
      "outputs": []
    },
    {
      "cell_type": "code",
      "source": [
        "labels['label'].value_counts()"
      ],
      "metadata": {
        "id": "WErViJkiDlzR"
      },
      "execution_count": null,
      "outputs": []
    },
    {
      "cell_type": "markdown",
      "source": [
        "### Data Preprocessing"
      ],
      "metadata": {
        "id": "wFzNxjLGEhAF"
      }
    },
    {
      "cell_type": "code",
      "source": [
        "!pip install keras_preprocessing\n"
      ],
      "metadata": {
        "id": "-upfUKfN2Ob1"
      },
      "execution_count": null,
      "outputs": []
    },
    {
      "cell_type": "code",
      "source": [
        "!pip install adam"
      ],
      "metadata": {
        "id": "3Z7X0Fwg2Us-"
      },
      "execution_count": null,
      "outputs": []
    },
    {
      "cell_type": "code",
      "source": [
        "import random\n",
        "import numpy as np\n",
        "import pandas as pd\n",
        "import matplotlib.pyplot as plt\n",
        "import matplotlib.image as mpimg\n",
        "%matplotlib inline\n",
        "import plotly.express as px\n",
        "\n",
        "\n",
        "import tensorflow as tf\n",
        "from tensorflow import keras\n",
        "import tensorflow_hub as hub\n",
        "\n",
        "\n",
        "import keras_preprocessing\n",
        "from keras_preprocessing import image\n",
        "from keras_preprocessing.image import ImageDataGenerator\n",
        "from keras.callbacks import ReduceLROnPlateau\n",
        "\n",
        "from keras import Sequential\n",
        "from keras.preprocessing.image import ImageDataGenerator\n",
        "from keras.optimizers import adam\n",
        "from keras.callbacks import EarlyStopping, ModelCheckpoint\n",
        "from keras.layers import Flatten, Dense, BatchNormalization, Activation,Dropout\n",
        "\n",
        "from tensorflow.keras.utils import plot_model\n",
        "from tensorflow.keras import Model"
      ],
      "metadata": {
        "id": "4I4DYuywEj5b"
      },
      "execution_count": null,
      "outputs": []
    },
    {
      "cell_type": "code",
      "source": [
        "dataset = ''\n",
        "print(\"There are {len(os.listdir(dataset))} images in  dataset\")"
      ],
      "metadata": {
        "id": "fKpNnn9uEmKs"
      },
      "execution_count": null,
      "outputs": []
    },
    {
      "cell_type": "code",
      "source": [
        "file_names = os.listdir(dataset)\n",
        "file_names[:10]"
      ],
      "metadata": {
        "id": "1_Nr2u2kEovA"
      },
      "execution_count": null,
      "outputs": []
    },
    {
      "cell_type": "code",
      "source": [
        "labels = pd.read_csv('images.csv')\n",
        "labels.head()\n"
      ],
      "metadata": {
        "id": "LpIp7KEfEqbw"
      },
      "execution_count": null,
      "outputs": []
    },
    {
      "cell_type": "code",
      "source": [
        "labels['image'] = labels['image']+'.jpg'\n",
        "labels1 = labels[['image', 'label']]"
      ],
      "metadata": {
        "id": "wTxOf1ALEsb0"
      },
      "execution_count": null,
      "outputs": []
    },
    {
      "cell_type": "code",
      "source": [
        "labels1.head()"
      ],
      "metadata": {
        "id": "86vgZJ7LEvGN"
      },
      "execution_count": null,
      "outputs": []
    },
    {
      "cell_type": "code",
      "source": [
        "labels1['image']"
      ],
      "metadata": {
        "id": "FuIJJrqpEwYg"
      },
      "execution_count": null,
      "outputs": []
    },
    {
      "cell_type": "code",
      "source": [
        "import PIL\n",
        "from pathlib import Path\n",
        "from PIL import UnidentifiedImageError\n",
        "\n",
        "path = Path(dataset).rglob(\"*.jpg\")\n",
        "for img_p in path:\n",
        "    try:\n",
        "        img = PIL.Image.open(img_p)\n",
        "    except PIL.UnidentifiedImageError:\n",
        "            print(img_p)"
      ],
      "metadata": {
        "id": "DrA-ePFaExmZ"
      },
      "execution_count": null,
      "outputs": []
    },
    {
      "cell_type": "code",
      "source": [
        "corrupted =['b72ed5cd-9f5f-49a7-b12e-63a078212a17.jpg', '1d0129a1-f29a-4a3f-b103-f651176183eb.jpg', 'c60e486d-10ed-4f64-abab-5bb698c736dd.jpg',\n",
        "            'd028580f-9a98-4fb5-a6c9-5dc362ad3f09.jpg', '040d73b7-21b5-4cf2-84fc-e1a80231b202.jpg', '784d67d4-b95e-4abb-baf7-8024f18dc3c8.jpg']"
      ],
      "metadata": {
        "id": "UnDYn3VpE1Xe"
      },
      "execution_count": null,
      "outputs": []
    },
    {
      "cell_type": "code",
      "source": [
        "labels1 = labels1.drop(labels1[labels1['image'].isin(corrupted)].index, axis=0)"
      ],
      "metadata": {
        "id": "qKkIzEMoE5QU"
      },
      "execution_count": null,
      "outputs": []
    },
    {
      "cell_type": "code",
      "source": [
        "fig = px.bar(labels1['label'].value_counts())\n",
        "fig.show()"
      ],
      "metadata": {
        "id": "Yeypvix4rTyp"
      },
      "execution_count": null,
      "outputs": []
    },
    {
      "cell_type": "code",
      "source": [
        "classes = list(labels1['label'].unique())\n",
        "print(len(classes))\n",
        "classes"
      ],
      "metadata": {
        "id": "4xyb8KI_A6QB"
      },
      "execution_count": null,
      "outputs": []
    },
    {
      "cell_type": "code",
      "source": [
        "class_dict = dict(zip(classes, range(len(classes))))\n",
        "class_dict"
      ],
      "metadata": {
        "id": "PL5LLT5tA9kD"
      },
      "execution_count": null,
      "outputs": []
    },
    {
      "cell_type": "code",
      "source": [
        "labels_to_remove = ['Skip', 'Not sure', 'Other']"
      ],
      "metadata": {
        "id": "Spv6y1I0BA5a"
      },
      "execution_count": null,
      "outputs": []
    },
    {
      "cell_type": "code",
      "source": [
        "labels1 = labels1[~labels1['label'].isin(labels_to_remove)]"
      ],
      "metadata": {
        "id": "3uKb6H3vBDkv"
      },
      "execution_count": null,
      "outputs": []
    },
    {
      "cell_type": "code",
      "source": [
        "fig = px.bar(labels1['label'].value_counts())\n",
        "fig.show()"
      ],
      "metadata": {
        "id": "BYrYactgrWPa"
      },
      "execution_count": null,
      "outputs": []
    },
    {
      "cell_type": "code",
      "source": [
        "y_train = labels1['label']\n",
        "y_train.shape"
      ],
      "metadata": {
        "id": "Wnl6hhj1CE-h"
      },
      "execution_count": null,
      "outputs": []
    },
    {
      "cell_type": "code",
      "source": [
        "def show_random_training_image():\n",
        "    random_index = random.choice(labels1.index)\n",
        "    img_path = labels1['image'][random_index]\n",
        "    label = labels1['label'][random_index]\n",
        "    complete_path = dataset + '/' + img_path\n",
        "    image = mpimg.imread(complete_path)\n",
        "    plt.imshow(image)\n",
        "    plt.axis('off')\n",
        "    plt.title(label)"
      ],
      "metadata": {
        "id": "fe7_oReTCMss"
      },
      "execution_count": null,
      "outputs": []
    },
    {
      "cell_type": "code",
      "source": [
        "plt.figure(figsize=(20, 20))\n",
        "for i in range(16):\n",
        "    ax = plt.subplot(5, 5, i+1)\n",
        "    show_random_training_image()"
      ],
      "metadata": {
        "id": "CT5bWSZ6CQ4B"
      },
      "execution_count": null,
      "outputs": []
    },
    {
      "cell_type": "code",
      "source": [
        "class_dict = dict(zip(classes, range(len(classes))))\n",
        "class_dict"
      ],
      "metadata": {
        "id": "BazV7y13rXEL"
      },
      "execution_count": null,
      "outputs": []
    },
    {
      "cell_type": "markdown",
      "source": [
        "### DATA AUGMENATION"
      ],
      "metadata": {
        "id": "SEuZk9RhrhqS"
      }
    },
    {
      "cell_type": "code",
      "source": [
        "BATCH_SIZE = 32\n",
        "IMAGE_SIZE = (224, 224)"
      ],
      "metadata": {
        "id": "tFY1Woxurgqf"
      },
      "execution_count": null,
      "outputs": []
    },
    {
      "cell_type": "code",
      "source": [
        "train_datagen = ImageDataGenerator(rescale=1./255,\n",
        "                                  rotation_range=40,\n",
        "                                  width_shift_range=0.2,\n",
        "                                  height_shift_range=0.2,\n",
        "                                  zoom_range=0.3,\n",
        "                                  horizontal_flip=True,\n",
        "                                  validation_split=0.2)\n",
        "\n",
        "train_generator = train_datagen.flow_from_dataframe(\n",
        "    dataframe=labels1,\n",
        "    directory=dataset,\n",
        "    x_col='image',\n",
        "    y_col='label',\n",
        "    target_size=IMAGE_SIZE,\n",
        "    class_mode='categorical',\n",
        "    batch_size=BATCH_SIZE,\n",
        "    shuffle=True,\n",
        "    subset='training'\n",
        ")"
      ],
      "metadata": {
        "id": "7c95RueYroNa"
      },
      "execution_count": null,
      "outputs": []
    },
    {
      "cell_type": "code",
      "source": [
        "validation_generator = train_datagen.flow_from_dataframe(\n",
        "    dataframe=labels1,\n",
        "    directory=dataset,\n",
        "    x_col='image',\n",
        "    y_col='label',\n",
        "    target_size=IMAGE_SIZE,\n",
        "    class_mode='categorical',\n",
        "    batch_size=BATCH_SIZE,\n",
        "    shuffle=False,\n",
        "    subset='validation'\n",
        ")"
      ],
      "metadata": {
        "id": "wJx4EpbFrqni"
      },
      "execution_count": null,
      "outputs": []
    },
    {
      "cell_type": "markdown",
      "source": [
        "### CREATE RESNET MODEL50"
      ],
      "metadata": {
        "id": "SJP-snPrrsRF"
      }
    },
    {
      "cell_type": "code",
      "source": [
        "from tensorflow.keras.applications.resnet50 import ResNet50\n",
        "from tensorflow.keras.layers import GlobalAveragePooling2D, Dense, Flatten, Dropout\n",
        "from tensorflow.keras.preprocessing import image\n",
        "from tensorflow.keras.applications.resnet50 import preprocess_input, decode_predictions"
      ],
      "metadata": {
        "id": "OBfZ7UlfrwkI"
      },
      "execution_count": null,
      "outputs": []
    },
    {
      "cell_type": "code",
      "source": [
        "pretrained_model = ResNet50(input_shape=(224, 224, 3),\n",
        "                                include_top=False,\n",
        "                                weights='imagenet')"
      ],
      "metadata": {
        "id": "5ufUMvorrzmR"
      },
      "execution_count": null,
      "outputs": []
    },
    {
      "cell_type": "code",
      "source": [
        "for layer in pretrained_model.layers:\n",
        "    layer.trainable = True"
      ],
      "metadata": {
        "id": "a1r-HA5Dr19N"
      },
      "execution_count": null,
      "outputs": []
    },
    {
      "cell_type": "code",
      "source": [
        "inputs = pretrained_model.input\n",
        "\n",
        "x = pretrained_model.output\n",
        "x = Flatten()(x)\n",
        "x = Dropout(0.3)(x)\n",
        "x = Dense(1024, activation='relu')(x)\n",
        "x = Dropout(0.3)(x)\n",
        "x = Dense(64,name='Feature_extractor', activation='relu')(x)\n",
        "outputs = tf.keras.layers.Dense(17, activation='softmax')(x)\n",
        "\n",
        "model = tf.keras.Model(inputs, outputs)"
      ],
      "metadata": {
        "id": "23awJXGYr2w5"
      },
      "execution_count": null,
      "outputs": []
    },
    {
      "cell_type": "code",
      "source": [
        "from tensorflow.keras.optimizers import Adam, SGD\n",
        "model.compile(Adam(learning_rate=0.0001),\n",
        "              loss='categorical_crossentropy',\n",
        "              metrics=['accuracy'])"
      ],
      "metadata": {
        "id": "KybRgKnor4qI"
      },
      "execution_count": null,
      "outputs": []
    },
    {
      "cell_type": "code",
      "source": [
        "model.summary()"
      ],
      "metadata": {
        "id": "dASnDw52r59P"
      },
      "execution_count": null,
      "outputs": []
    },
    {
      "cell_type": "code",
      "source": [
        "from tensorflow.keras.callbacks import ReduceLROnPlateau, TensorBoard\n",
        "import tensorflow as tf\n",
        "import datetime, os\n",
        "es = tf.keras.callbacks.EarlyStopping(patience=5)\n",
        "learning_rate_reduction = ReduceLROnPlateau(monitor='val_accuracy',\n",
        "                                            patience=3,\n",
        "                                            #verbose=1,\n",
        "                                            factor=0.5,\n",
        "                                            min_lr=0.00001)"
      ],
      "metadata": {
        "id": "T78LW2htr-df"
      },
      "execution_count": null,
      "outputs": []
    },
    {
      "cell_type": "code",
      "source": [
        "history = model.fit(train_generator,\n",
        "                    epochs=10,\n",
        "                    validation_data=validation_generator,\n",
        "                    callbacks= [es, learning_rate_reduction],\n",
        "                    steps_per_epoch=len(train_generator) //BATCH_SIZE,\n",
        "                    validation_steps=len(validation_generator) //BATCH_SIZE  )"
      ],
      "metadata": {
        "id": "o7I0ja-isAhm"
      },
      "execution_count": null,
      "outputs": []
    },
    {
      "cell_type": "markdown",
      "source": [
        "### MODEL PERFORMANCE"
      ],
      "metadata": {
        "id": "UdGttSm6sCgK"
      }
    },
    {
      "cell_type": "code",
      "source": [
        "model.save('resnet50.h5')"
      ],
      "metadata": {
        "id": "WiBrrq1PsGqK"
      },
      "execution_count": null,
      "outputs": []
    },
    {
      "cell_type": "code",
      "source": [
        "loss, accuracy = model.evaluate(validation_generator, verbose=2)"
      ],
      "metadata": {
        "id": "iB2M8HdhsIV-"
      },
      "execution_count": null,
      "outputs": []
    },
    {
      "cell_type": "code",
      "source": [
        "print(f\"Model Loss is {loss:.2f} and Accuracy is {100*np.round(accuracy, 4)}%\")"
      ],
      "metadata": {
        "id": "wOhE90OKsJm9"
      },
      "execution_count": null,
      "outputs": []
    },
    {
      "cell_type": "code",
      "source": [
        "def plot_loss_curves(history):\n",
        "    loss = history.history['loss']\n",
        "    val_loss = history.history['val_loss']\n",
        "\n",
        "    accuracy = history.history['accuracy']\n",
        "    val_accuracy = history.history['val_accuracy']\n",
        "\n",
        "    epochs = range(len(history.history['loss']))\n",
        "\n",
        "    # Plot loss\n",
        "    plt.plot(epochs, loss, label='training_loss')\n",
        "    plt.plot(epochs, val_loss, label='val_loss')\n",
        "    plt.title('Loss')\n",
        "    plt.xlabel('Epochs')\n",
        "    plt.legend()\n",
        "\n",
        "    # Plot accuracy\n",
        "    plt.figure()\n",
        "    plt.plot(epochs, accuracy, label='training_accuracy')\n",
        "    plt.plot(epochs, val_accuracy, label='val_accuracy')\n",
        "    plt.title('Accuracy')\n",
        "    plt.xlabel('Epochs')\n",
        "    plt.legend()"
      ],
      "metadata": {
        "id": "8F75SBAqsKut"
      },
      "execution_count": null,
      "outputs": []
    },
    {
      "cell_type": "code",
      "source": [
        "plot_loss_curves(history)"
      ],
      "metadata": {
        "id": "XIS7ueWDsMRf"
      },
      "execution_count": null,
      "outputs": []
    },
    {
      "cell_type": "code",
      "source": [
        "classes = list(train_generator.class_indices.keys())"
      ],
      "metadata": {
        "id": "vtBntCRcsPOq"
      },
      "execution_count": null,
      "outputs": []
    },
    {
      "cell_type": "code",
      "source": [
        "def predict_val_image(index):\n",
        "    predictions =  model.predict(val_images, verbose=0)[index]\n",
        "    true_label = classes[val_labels[index].argmax()]\n",
        "    predicted_label = classes[predictions.argmax()]\n",
        "\n",
        "    if(true_label== predicted_label):\n",
        "        color = 'green'\n",
        "    else:\n",
        "        color = 'red'\n",
        "\n",
        "    plt.title(f\"True : {true_label} Predicted: {predicted_label}\", color=color)\n",
        "    plt.imshow(val_images[index])\n",
        "    plt.axis('off')\n",
        "val_images, val_labels = validation_generator.next()\n",
        "plt.figure(figsize=(20, 20))\n",
        "for i in range(20):\n",
        "    ax = plt.subplot(5, 4, i + 1)\n",
        "    predict_val_image(i)"
      ],
      "metadata": {
        "id": "Fv2vi7PGsSB4"
      },
      "execution_count": null,
      "outputs": []
    },
    {
      "cell_type": "markdown",
      "source": [
        "### Prediction on test images which are not used for training and validation"
      ],
      "metadata": {
        "id": "pfB9SnlYsToD"
      }
    },
    {
      "cell_type": "code",
      "source": [
        "custom_dir = '../input/clothing-dataset-full/images_original'"
      ],
      "metadata": {
        "id": "KFDtqxC0sWuq"
      },
      "execution_count": null,
      "outputs": []
    },
    {
      "cell_type": "code",
      "source": [
        "custom_paths = []\n",
        "for image in os.listdir(custom_dir):\n",
        "        custom_paths.append(custom_dir+'/'+image)"
      ],
      "metadata": {
        "id": "qqEYEpGesYAl"
      },
      "execution_count": null,
      "outputs": []
    },
    {
      "cell_type": "code",
      "source": [
        "def predict_random_image():\n",
        "    path = random.choice(custom_paths)\n",
        "    image = tf.keras.preprocessing.image.load_img(path, target_size=(224, 224))\n",
        "    input_arr = tf.keras.preprocessing.image.img_to_array(image)\n",
        "    input_arr = np.array([input_arr])\n",
        "    input_arr = input_arr.astype('float32') / 255.\n",
        "    predictions = model.predict(input_arr, verbose=0)\n",
        "    series = pd.Series(predictions[0], index=classes)\n",
        "    predicted_classes = np.argsort(predictions)\n",
        "    predictions.sort()\n",
        "    plt.title(f\"{classes[predicted_classes[0][-1]]} - {round(predictions[0][-1] * 100,2)}% \\n{classes[predicted_classes[0][-2]]} - {round(predictions[0][-2] * 100,2)}% \\n{classes[predicted_classes[0][-3]]} - {round(predictions[0][-2] * 100,3)}%\")\n",
        "    plt.imshow(image)\n",
        "    plt.axis('off')"
      ],
      "metadata": {
        "id": "4hyGHMggsZSK"
      },
      "execution_count": null,
      "outputs": []
    },
    {
      "cell_type": "code",
      "source": [
        "plt.figure(figsize=(20, 20))\n",
        "for i in range(16):\n",
        "    ax = plt.subplot(4, 4, i + 1)\n",
        "    predict_random_image()"
      ],
      "metadata": {
        "id": "MK6qhIrEsbDd"
      },
      "execution_count": null,
      "outputs": []
    },
    {
      "cell_type": "code",
      "source": [],
      "metadata": {
        "id": "rsr_fpw44djf"
      },
      "execution_count": null,
      "outputs": []
    },
    {
      "cell_type": "code",
      "source": [],
      "metadata": {
        "id": "aw0-4yCp4f0Y"
      },
      "execution_count": null,
      "outputs": []
    },
    {
      "cell_type": "code",
      "source": [],
      "metadata": {
        "id": "0AsWO3VSscRF"
      },
      "execution_count": null,
      "outputs": []
    }
  ]
}